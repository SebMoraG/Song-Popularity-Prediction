{
  "nbformat": 4,
  "nbformat_minor": 0,
  "metadata": {
    "colab": {
      "provenance": []
    },
    "kernelspec": {
      "name": "python3",
      "display_name": "Python 3"
    },
    "language_info": {
      "name": "python"
    }
  },
  "cells": [
    {
      "cell_type": "markdown",
      "source": [
        "**Predicción de popularidad de canciones en Spotify**\n",
        "Maria Lucia Velasquez-Sebastián Mora"
      ],
      "metadata": {
        "id": "fB4MOZlJaHQE"
      }
    },
    {
      "cell_type": "code",
      "execution_count": null,
      "metadata": {
        "id": "vLB5jMbKYoky",
        "colab": {
          "base_uri": "https://localhost:8080/"
        },
        "outputId": "38fad7ca-7891-4997-c50e-ffd1ea2864bc"
      },
      "outputs": [
        {
          "output_type": "stream",
          "name": "stderr",
          "text": [
            "<ipython-input-3-8106f5a55fa6>:9: FutureWarning: The error_bad_lines argument has been deprecated and will be removed in a future version. Use on_bad_lines in the future.\n",
            "\n",
            "\n",
            "  data = pd.read_csv(\"SpotifySongP.csv\", error_bad_lines=False, delimiter=',')\n"
          ]
        },
        {
          "output_type": "stream",
          "name": "stdout",
          "text": [
            "Modelo: Linear Regression\n",
            "Neg-MSE: -409.23225691079836\n",
            "RMSE: 20.229489783748832\n",
            "Mejores parámetros: {}\n",
            "\n",
            "Modelo: Ridge\n",
            "Neg-MSE: -409.2145178262232\n",
            "RMSE: 20.229051332828814\n",
            "Mejores parámetros: {'alpha': 10.0}\n",
            "\n",
            "Modelo: Lasso\n",
            "Neg-MSE: -410.9271983131269\n",
            "RMSE: 20.271339332000906\n",
            "Mejores parámetros: {'alpha': 0.1}\n",
            "\n",
            "Modelo: Random Forest\n",
            "Neg-MSE: -383.54391206106504\n",
            "RMSE: 19.584277164630432\n",
            "Mejores parámetros: {'n_estimators': 200}\n",
            "\n"
          ]
        }
      ],
      "source": [
        "import pandas as pd\n",
        "from sklearn.model_selection import GridSearchCV\n",
        "from sklearn.linear_model import LinearRegression, Ridge, Lasso\n",
        "from sklearn.ensemble import RandomForestRegressor\n",
        "from sklearn.impute import SimpleImputer\n",
        "from sklearn.metrics import mean_squared_error\n",
        "\n",
        "# Carga el dataset\n",
        "data = pd.read_csv(\"SpotifySongP.csv\", error_bad_lines=False, delimiter=',')\n",
        "df_clean = data.dropna(how='any')\n",
        "\n",
        "# Eliminar filas con valores no numéricos en 'popularity'\n",
        "df_clean = df_clean[~df_clean['popularity'].isin(['ScreaMER'])]\n",
        "\n",
        "# Eliminar filas con valores faltantes en 'popularity'\n",
        "df_clean = df_clean.dropna(subset=['popularity'])\n",
        "df_clean = df_clean.drop(27886)\n",
        "\n",
        "# Imputar valores faltantes en 'popularity'\n",
        "imputer = SimpleImputer(strategy='most_frequent')\n",
        "df_clean['popularity'] = imputer.fit_transform(df_clean[['popularity']])\n",
        "\n",
        "# Separar características (X) y variable objetivo (y)\n",
        "X = df_clean[['danceability', 'energy', 'key', 'loudness', 'mode', 'speechiness', 'instrumentalness', 'liveness', 'valence', 'tempo', 'duration_ms']]\n",
        "y = df_clean['popularity']\n",
        "\n",
        "# Definir modelos y parámetros para GridSearchCV\n",
        "models = [\n",
        "    ('Linear Regression', LinearRegression(), {}),\n",
        "    ('Ridge', Ridge(), {'alpha': [0.1, 1.0, 10.0]}),\n",
        "    ('Lasso', Lasso(), {'alpha': [0.1, 1.0, 10.0]}),\n",
        "    ('Random Forest', RandomForestRegressor(), {'n_estimators': [50, 100, 200]})\n",
        "]\n",
        "\n",
        "# Realizar validación cruzada con GridSearchCV\n",
        "best_models = []\n",
        "best_scores = []\n",
        "best_params = []\n",
        "\n",
        "for name, model, params in models:\n",
        "    grid_search = GridSearchCV(model, params, cv=5, scoring='neg_mean_squared_error')\n",
        "    grid_search.fit(X, y)\n",
        "    best_models.append(name)\n",
        "    best_scores.append(grid_search.best_score_)\n",
        "    best_params.append(grid_search.best_params_)\n",
        "\n",
        "# Imprimir los mejores modelos, puntajes y parámetros\n",
        "for name, score, params in zip(best_models, best_scores, best_params):\n",
        "    print(f\"Modelo: {name}\")\n",
        "    print(f\"Neg-MSE: {score}\")\n",
        "    print(f\"RMSE: {abs(score) ** 0.5}\")\n",
        "    print(f\"Mejores parámetros: {params}\")\n",
        "    print()\n",
        "\n"
      ]
    }
  ]
}